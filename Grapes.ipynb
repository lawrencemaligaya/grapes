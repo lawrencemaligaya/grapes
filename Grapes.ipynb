{
 "cells": [
  {
   "cell_type": "code",
   "execution_count": 175,
   "metadata": {},
   "outputs": [],
   "source": [
    "## Business Logic\n",
    "\n",
    "import math\n",
    "from Tkinter import *\n",
    "from ttk import *\n",
    "import ipywidgets as widgets\n",
    "\n",
    "RISK = 72000\n",
    "PROBABILITIES = {\n",
    "    \"prob_of_rain_with_no_data\": 0.6667,\n",
    "    \"prob_of_rain_with_data\": 0.4204,\n",
    "    \"prob_of_mold\": 0.4,\n",
    "    \"prob_of_acid\": 0.2\n",
    "}\n",
    "\n",
    "def get_value(data, spores, harvest, in_bulk, rain=False, mold=False, sugar=0):\n",
    "    value = 1000\n",
    "    if spores:\n",
    "        if harvest:\n",
    "            value = 331000\n",
    "        else:\n",
    "            if rain:\n",
    "                value = 811000\n",
    "            else:\n",
    "                if sugar == 25:\n",
    "                    value = 409000\n",
    "                elif sugar == 20:\n",
    "                    value = 349000\n",
    "                else:\n",
    "                    value = 289000\n",
    "    else:\n",
    "        if harvest:\n",
    "            value = 341000\n",
    "        else:\n",
    "            if rain:\n",
    "                if mold:\n",
    "                    value = 821000\n",
    "                else:\n",
    "                    if in_bulk:\n",
    "                        value = 128000\n",
    "                    else:\n",
    "                        value = 7000\n",
    "            else:\n",
    "                if sugar == 25:\n",
    "                    value = 419000\n",
    "                elif sugar == 20:\n",
    "                    value = 359000\n",
    "                else:\n",
    "                    value = 299000\n",
    "    if not data:\n",
    "        value = value + 1000\n",
    "    return value\n",
    "\n",
    "def calc_u_value(value):\n",
    "    # print value\n",
    "    # print RISK\n",
    "    if RISK == 0:\n",
    "        return value\n",
    "    elif RISK > 0:\n",
    "        return 1.0 - math.exp(-1.0 / RISK * value)\n",
    "    else:\n",
    "        return 1.0 + math.exp(-1.0 / RISK * value)\n",
    "\n",
    "def calc_value(u_value):\n",
    "    if RISK == 0:\n",
    "        return u_value\n",
    "    elif RISK > 0:\n",
    "        return -1.0 * RISK * math.log(1.0 - u_value);\n",
    "    else:\n",
    "        return -1.0 * RISK * math.log(u_value - 1.0);\n",
    "\n",
    "def calculate(data, spores, harvest, in_bulk, rain=None, mold=None, probs=None):\n",
    "    if not probs:\n",
    "        probs = PROBABILITIES\n",
    "\n",
    "    if harvest:\n",
    "        value = get_value(data, spores, harvest, in_bulk)\n",
    "        u_value = calc_u_value(value)\n",
    "        # print ([value, u_value])\n",
    "        return [value, u_value]\n",
    "\n",
    "    if rain == None:\n",
    "        [rain_v, rain_u] = calculate(data, spores, harvest, in_bulk, rain=True, probs=probs)\n",
    "        [no_rain_v, no_rain_u] = calculate(data, spores, harvest, in_bulk, rain=False, probs=probs)\n",
    "        prob_of_rain = probs[\"prob_of_rain_with_data\"] if data else probs[\"prob_of_rain_with_no_data\"]\n",
    "        u_value = prob_of_rain * rain_u + (1.0-prob_of_rain) * no_rain_u\n",
    "        # print(rain_u)\n",
    "        # print(no_rain_u)\n",
    "        # print(u_value)\n",
    "        value = calc_value(u_value)\n",
    "        # print(value)\n",
    "        # print ([value, u_value])\n",
    "        return [value, u_value]\n",
    "    elif rain:\n",
    "        if spores:\n",
    "            value = get_value(data, spores, harvest, in_bulk, rain=rain)\n",
    "            u_value = calc_u_value(value)\n",
    "            # print ([value, u_value])\n",
    "            return [value, u_value]\n",
    "        else:\n",
    "            if mold == None:\n",
    "                [mold_v, mold_u] = calculate(data, spores, harvest, in_bulk, rain=rain, mold=True, probs=probs)\n",
    "                [no_vold_v, no_mold_u] = calculate(data, spores, harvest, in_bulk, rain=rain, mold=False, probs=probs)\n",
    "                prob_of_mold = probs[\"prob_of_mold\"]\n",
    "                u_value = prob_of_mold * mold_u + (1.0 - prob_of_mold) * no_mold_u\n",
    "                value = calc_value(u_value)\n",
    "                # print ([value, u_value])\n",
    "                return [value, u_value]\n",
    "            else:\n",
    "                value = get_value(data, spores, harvest, in_bulk, rain=rain, mold=mold)\n",
    "                u_value = calc_u_value(value)\n",
    "                # print ([value, u_value])\n",
    "                return [value, u_value]\n",
    "    else:\n",
    "        value_25 = get_value(data, spores, harvest, in_bulk, rain=rain, sugar=25)\n",
    "        value_20 = get_value(data, spores, harvest, in_bulk, rain=rain, sugar=20)\n",
    "        value_0 = get_value(data, spores, harvest, in_bulk, rain=rain, sugar=0)\n",
    "        u_value_25 = calc_u_value(value_25)\n",
    "        u_value_20 = calc_u_value(value_20)\n",
    "        u_value_0 = calc_u_value(value_0)\n",
    "        prob_of_acid = probs[\"prob_of_acid\"]\n",
    "        prob_of_sugar = [(1.0 - prob_of_acid) / 2, (1.0 - prob_of_acid) / 2, prob_of_acid]\n",
    "        u_value = prob_of_sugar[0] * u_value_25 + prob_of_sugar[1] * u_value_20 + prob_of_sugar[2] * u_value_0\n",
    "        value = calc_value(u_value)\n",
    "        # print ([value, u_value])\n",
    "        return [value, u_value]\n",
    "\n",
    "def pick_decision(decisions, decision_name, probs):\n",
    "    def copy_decisions(orig, dest):\n",
    "        dest.clear()\n",
    "        for key in orig:\n",
    "            dest[key] = orig[key]\n",
    "\n",
    "    try_true_decisions = decisions.copy()\n",
    "    try_false_decisions = decisions.copy()\n",
    "    try_true_decisions[decision_name] = True\n",
    "    try_false_decisions[decision_name] = False\n",
    "    [v_true, u_true] = find_best_decision(try_true_decisions, probs=probs)\n",
    "    [v_false, u_false] = find_best_decision(try_false_decisions, probs=probs)\n",
    "    # if decision_name == \"data\":\n",
    "    #     print(decision_name)\n",
    "    #     print([v_true, u_true])\n",
    "    #     print([v_false, u_false])\n",
    "    if u_true > u_false:\n",
    "        copy_decisions(try_true_decisions, decisions)\n",
    "        return [v_true, u_true]\n",
    "    else:\n",
    "        copy_decisions(try_false_decisions, decisions)\n",
    "        return [v_false, u_false]\n",
    "\n",
    "def find_best_decision(decisions, probs=None):\n",
    "    if decisions[\"data\"] == None:\n",
    "        return pick_decision(decisions, \"data\", probs)\n",
    "    if decisions[\"spores\"] == None:\n",
    "        return pick_decision(decisions, \"spores\", probs)\n",
    "    if decisions[\"harvest\"] == None:\n",
    "        return pick_decision(decisions, \"harvest\", probs)\n",
    "    if decisions[\"in_bulk\"] == None:\n",
    "        return pick_decision(decisions, \"in_bulk\", probs)\n",
    "\n",
    "    # print(decisions)\n",
    "    [v,u] = calculate(\n",
    "        decisions[\"data\"],\n",
    "        decisions[\"spores\"],\n",
    "        decisions[\"harvest\"],\n",
    "        decisions[\"in_bulk\"],\n",
    "        probs=probs)\n",
    "    # print([v,u])\n",
    "    return calculate(\n",
    "        decisions[\"data\"],\n",
    "        decisions[\"spores\"],\n",
    "        decisions[\"harvest\"],\n",
    "        decisions[\"in_bulk\"],\n",
    "        probs=probs)\n",
    "\n",
    "def find_values(probs=None):\n",
    "    [v_data_spores, u_data_spores] = pick_decision(\n",
    "        {\"data\": True, \"spores\": True, \"harvest\": None, \"in_bulk\": None}, \"harvest\", probs)\n",
    "    [v_data_no_spores, u_data_no_spores] = pick_decision(\n",
    "        {\"data\": True, \"spores\": False, \"harvest\": None, \"in_bulk\": None}, \"harvest\", probs)\n",
    "    [v_no_data_no_spores, u_no_data_no_spores] = pick_decision(\n",
    "        {\"data\": False, \"spores\": False, \"harvest\": None, \"in_bulk\": None}, \"harvest\", probs)\n",
    "    [v_no_data_spores, u_no_data_spores] = pick_decision(\n",
    "        {\"data\": False, \"spores\": True, \"harvest\": None, \"in_bulk\": None}, \"harvest\", probs)\n",
    "    return [\n",
    "        v_data_no_spores - v_no_data_no_spores,\n",
    "        v_no_data_spores - v_no_data_no_spores,\n",
    "        v_data_spores - v_no_data_no_spores\n",
    "    ]\n",
    "\n",
    "def format_dollars(value):\n",
    "    if value >= 0:\n",
    "        return '${:,.2f}'.format(value)\n",
    "    else:\n",
    "        return \"$0.00\"\n",
    "#         return '-${:,.2f}'.format(abs(value))\n",
    "    \n",
    "def decisions_to_string(decisions):\n",
    "    string = \"\"\n",
    "    if decisions[\"data\"]:\n",
    "        string += \"to buy data, \"\n",
    "    else:\n",
    "        string += \"to not buy data, \"\n",
    "\n",
    "    if decisions[\"spores\"]:\n",
    "        string += \"buy spores, \"\n",
    "    else:\n",
    "        string += \"don't buy spores, \"\n",
    "\n",
    "    if decisions[\"harvest\"]:\n",
    "        string += \"harvest now\"\n",
    "    else:\n",
    "        string += \"harvest later\"\n",
    "\n",
    "    return string"
   ]
  },
  {
   "cell_type": "code",
   "execution_count": 176,
   "metadata": {},
   "outputs": [],
   "source": [
    "## Calculate Basic Case\n",
    "\n",
    "decisions = {\n",
    "            \"data\": None,\n",
    "            \"spores\": None,\n",
    "            \"harvest\": None,\n",
    "            \"in_bulk\": None\n",
    "}\n",
    "\n",
    "[value, u_value] = find_best_decision(decisions)\n",
    "values = find_values()\n",
    "\n",
    "widget_recommend = widgets.Label(\n",
    "    \"***We recommend \" + decisions_to_string(decisions) + \".***\")\n",
    "widget_value = widgets.Label(\n",
    "    \"This will provide an optimal value of \" + format_dollars(value) + \".\")\n",
    "widget_value_of_data = widgets.Label(\n",
    "    \"The value of the data is \" + format_dollars(values[0]) + \".\")\n",
    "widget_value_of_spores = widgets.Label(\n",
    "    \"The value of the spores is \" + format_dollars(values[1]) + \".\")\n",
    "widget_joint_value = widgets.Label(\n",
    "    \"The joint value is \" + format_dollars(values[2]) + \".\")"
   ]
  },
  {
   "cell_type": "code",
   "execution_count": 177,
   "metadata": {},
   "outputs": [
    {
     "data": {
      "application/vnd.jupyter.widget-view+json": {
       "model_id": "e2dd323672204b3192ccd41ebdb2a81e",
       "version_major": 2,
       "version_minor": 0
      },
      "text/plain": [
       "Label(value=u'***We recommend to not buy data, buy spores, harvest later.***')"
      ]
     },
     "metadata": {},
     "output_type": "display_data"
    },
    {
     "data": {
      "application/vnd.jupyter.widget-view+json": {
       "model_id": "0824003a55cb43589e80143e4821bf19",
       "version_major": 2,
       "version_minor": 0
      },
      "text/plain": [
       "Label(value=u'This will provide an optimal value of $426,470.34.')"
      ]
     },
     "metadata": {},
     "output_type": "display_data"
    },
    {
     "data": {
      "application/vnd.jupyter.widget-view+json": {
       "model_id": "0a45090d86334adab70129a073a66fa5",
       "version_major": 2,
       "version_minor": 0
      },
      "text/plain": [
       "Label(value=u'The value of the data is $0.00.')"
      ]
     },
     "metadata": {},
     "output_type": "display_data"
    },
    {
     "data": {
      "application/vnd.jupyter.widget-view+json": {
       "model_id": "98ff5360b0fe4ee0bdbe12df4683c9e4",
       "version_major": 2,
       "version_minor": 0
      },
      "text/plain": [
       "Label(value=u'The value of the spores is $84,470.34.')"
      ]
     },
     "metadata": {},
     "output_type": "display_data"
    },
    {
     "data": {
      "application/vnd.jupyter.widget-view+json": {
       "model_id": "f23f0e782371479cbe368d588ec354a0",
       "version_major": 2,
       "version_minor": 0
      },
      "text/plain": [
       "Label(value=u'The joint value is $43,777.84.')"
      ]
     },
     "metadata": {},
     "output_type": "display_data"
    }
   ],
   "source": [
    "## Basic Case Results\n",
    "\n",
    "display(widget_recommend)\n",
    "display(widget_value)\n",
    "display(widget_value_of_data)\n",
    "display(widget_value_of_spores)\n",
    "display(widget_joint_value)\n",
    "\n"
   ]
  },
  {
   "cell_type": "code",
   "execution_count": 178,
   "metadata": {},
   "outputs": [],
   "source": [
    "## User input Scenarios\n",
    "\n",
    "def update(var=None):\n",
    "    global decisions\n",
    "    slider_prob_of_mold.disabled = False\n",
    "    if choices.value:\n",
    "        dropdown_data.layout.visibility = \"visible\"\n",
    "        dropdown_spores.layout.visibility = \"visible\"\n",
    "        if dropdown_spores.value == \"Yes\":\n",
    "            slider_prob_of_mold.value = 100.0\n",
    "            slider_prob_of_mold.disabled = True\n",
    "    else:\n",
    "        dropdown_data.layout.visibility = \"hidden\"\n",
    "        dropdown_spores.layout.visibility = \"hidden\"\n",
    "    \n",
    "    probs = {\n",
    "        \"prob_of_rain_with_no_data\": slider_prob_of_rain.value / 100.0,\n",
    "        \"prob_of_rain_with_data\": PROBABILITIES[\"prob_of_rain_with_data\"],\n",
    "        \"prob_of_mold\": slider_prob_of_mold.value / 100.0,\n",
    "        \"prob_of_acid\": slider_prob_of_acid.value / 100.0\n",
    "        }\n",
    "    \n",
    "    update_decisions = {\n",
    "        \"data\": None,\n",
    "        \"spores\": None,\n",
    "        \"harvest\": None,\n",
    "        \"in_bulk\": None}\n",
    "\n",
    "    if choices.value:\n",
    "        update_decisions[\"data\"] = True if dropdown_data.value == \"Yes\" else False\n",
    "        update_decisions[\"spores\"] = True if dropdown_spores.value == \"Yes\" else False\n",
    "    else:\n",
    "        dropdown_data.value = \"Yes\" if decisions[\"data\"] else \"No\"\n",
    "        dropdown_spores.value = \"Yes\" if decisions[\"spores\"] else \"No\"\n",
    "    \n",
    "    [value, u_value] = find_best_decision(update_decisions, probs)\n",
    "    values = find_values(probs)\n",
    "    \n",
    "    harvest_recommendation = \"harvest now\" if update_decisions[\"harvest\"] else \"harvest later\"\n",
    "    recommend_string = harvest_recommendation if choices.value else decisions_to_string(update_decisions)\n",
    "    label_recommend.value = \"In the above scenario, we recommend \" + recommend_string + \".\"\n",
    "    label_value.value = \"This will provide a value of \" + format_dollars(value) + \".\"\n",
    "    label_value_of_data.value = \"The value of the data is \" + format_dollars(values[0]) + \".\"\n",
    "    label_value_of_spores.value = \"The value of the spores is \" + format_dollars(values[1]) + \".\"\n",
    "    label_joint_value.value = \"The joint value is \" + format_dollars(values[2]) + \".\"\n",
    "    \n",
    "    decisions = update_decisions\n",
    "    \n",
    "\n",
    "widget_try_title = widgets.Label(\"Try out your own scenarios below.\")\n",
    "\n",
    "label_desc_prob_of_rain = widgets.Label(\"Probability of rain without data:\")\n",
    "slider_prob_of_rain = widgets.FloatSlider(\n",
    "    value=PROBABILITIES[\"prob_of_rain_with_no_data\"]*100,\n",
    "    min=0,\n",
    "    max=100.0,\n",
    "    step=0.01,\n",
    "    disabled=False,\n",
    "    orientation='horizontal',\n",
    "    readout=True,\n",
    "    readout_format='.2f')\n",
    "label_percent = widgets.Label(\"%\")\n",
    "slider_prob_of_rain.observe(update, names=\"value\")\n",
    "\n",
    "label_desc_prob_of_mold = widgets.Label(\"Probability of mold if raining:\")\n",
    "slider_prob_of_mold = widgets.FloatSlider(\n",
    "    value=PROBABILITIES[\"prob_of_mold\"]*100,\n",
    "    min=0,\n",
    "    max=100.0,\n",
    "    step=0.01,\n",
    "    disabled=False,\n",
    "    orientation='horizontal',\n",
    "    readout=True,\n",
    "    readout_format='.2f')\n",
    "slider_prob_of_mold.observe(update, names=\"value\")\n",
    "\n",
    "label_desc_prob_of_acid = widgets.Label(\"Probability of acid if not raining:\")\n",
    "slider_prob_of_acid = widgets.FloatSlider(\n",
    "    value=PROBABILITIES[\"prob_of_acid\"]*100,\n",
    "    min=0,\n",
    "    max=100.0,\n",
    "    step=0.01,\n",
    "    disabled=False,\n",
    "    orientation='horizontal',\n",
    "    readout=True,\n",
    "    readout_format='.2f')\n",
    "slider_prob_of_acid.observe(update, names=\"value\")\n",
    "\n",
    "choices = widgets.Checkbox(\n",
    "    value=False,\n",
    "    description=\"Control Individual Choices\",\n",
    "    disabled=False)\n",
    "choices.observe(update)\n",
    "\n",
    "dropdown_data = widgets.Dropdown(\n",
    "    options=[\"Yes\", \"No\"],\n",
    "    value= \"Yes\" if decisions[\"data\"] else \"No\",\n",
    "    description=\"Buy data\",\n",
    "    disabled=False)\n",
    "dropdown_data.observe(update)\n",
    "\n",
    "dropdown_spores = widgets.Dropdown(\n",
    "    options=[\"Yes\", \"No\"],\n",
    "    value=\"Yes\" if decisions[\"spores\"] else \"No\",\n",
    "    description=\"Buy spores\",\n",
    "    disabled=False)\n",
    "dropdown_spores.observe(update)\n",
    "\n",
    "label_recommend = widgets.Label(value=\"In the above scenario, we recommend \" + decisions_to_string(decisions) + \".\")\n",
    "label_value = widgets.Label(value=widget_value.value)\n",
    "label_value_of_data = widgets.Label(value=widget_value_of_data.value)\n",
    "label_value_of_spores = widgets.Label(value=widget_value_of_spores.value)\n",
    "label_joint_value = widgets.Label(value=widget_joint_value.value)\n",
    "\n",
    "def on_reset_button(var):\n",
    "    choices.value = False\n",
    "    slider_prob_of_rain.value = PROBABILITIES[\"prob_of_rain_with_no_data\"]*100\n",
    "    slider_prob_of_mold.value = PROBABILITIES[\"prob_of_mold\"] * 100\n",
    "    slider_prob_of_acid.value = PROBABILITIES[\"prob_of_acid\"] * 100\n",
    "    update()\n",
    "\n",
    "button_reset = widgets.Button(\n",
    "    description=\"Reset Scenario\",\n",
    "    disabled=False)\n",
    "button_reset.on_click(on_reset_button)\n",
    "\n"
   ]
  },
  {
   "cell_type": "code",
   "execution_count": 179,
   "metadata": {},
   "outputs": [
    {
     "data": {
      "application/vnd.jupyter.widget-view+json": {
       "model_id": "d91db682664e4263b598ea85cf900e10",
       "version_major": 2,
       "version_minor": 0
      },
      "text/plain": [
       "Label(value=u'Try out your own scenarios below.')"
      ]
     },
     "metadata": {},
     "output_type": "display_data"
    },
    {
     "data": {
      "application/vnd.jupyter.widget-view+json": {
       "model_id": "74c37b18366147718de130211cbf6c42",
       "version_major": 2,
       "version_minor": 0
      },
      "text/plain": [
       "SEJveChjaGlsZHJlbj0oTGFiZWwodmFsdWU9dSdQcm9iYWJpbGl0eSBvZiByYWluIHdpdGhvdXQgZGF0YTonKSwgRmxvYXRTbGlkZXIodmFsdWU9NjYuNjcsIHN0ZXA9MC4wMSksIExhYmVsKHbigKY=\n"
      ]
     },
     "metadata": {},
     "output_type": "display_data"
    },
    {
     "data": {
      "application/vnd.jupyter.widget-view+json": {
       "model_id": "58e37af105d443ada86acf447864535f",
       "version_major": 2,
       "version_minor": 0
      },
      "text/plain": [
       "SEJveChjaGlsZHJlbj0oTGFiZWwodmFsdWU9dSdQcm9iYWJpbGl0eSBvZiBtb2xkIGlmIHJhaW5pbmc6JyksIEZsb2F0U2xpZGVyKHZhbHVlPTQwLjAsIHN0ZXA9MC4wMSksIExhYmVsKHZhbHXigKY=\n"
      ]
     },
     "metadata": {},
     "output_type": "display_data"
    },
    {
     "data": {
      "application/vnd.jupyter.widget-view+json": {
       "model_id": "6902cd2f196841fcbb033e3cf67e9428",
       "version_major": 2,
       "version_minor": 0
      },
      "text/plain": [
       "SEJveChjaGlsZHJlbj0oTGFiZWwodmFsdWU9dSdQcm9iYWJpbGl0eSBvZiBhY2lkIGlmIG5vdCByYWluaW5nOicpLCBGbG9hdFNsaWRlcih2YWx1ZT0yMC4wLCBzdGVwPTAuMDEpLCBMYWJlbCjigKY=\n"
      ]
     },
     "metadata": {},
     "output_type": "display_data"
    },
    {
     "data": {
      "application/vnd.jupyter.widget-view+json": {
       "model_id": "9adbef11f4fe4cc19f2c65b5847a9e8b",
       "version_major": 2,
       "version_minor": 0
      },
      "text/plain": [
       "Checkbox(value=False, description=u'Control Individual Choices')"
      ]
     },
     "metadata": {},
     "output_type": "display_data"
    },
    {
     "data": {
      "application/vnd.jupyter.widget-view+json": {
       "model_id": "5b04bf2786dc4f7c947b5b83ac9e5760",
       "version_major": 2,
       "version_minor": 0
      },
      "text/plain": [
       "Dropdown(description=u'Buy data', index=1, options=('Yes', 'No'), value='No')"
      ]
     },
     "metadata": {},
     "output_type": "display_data"
    },
    {
     "data": {
      "application/vnd.jupyter.widget-view+json": {
       "model_id": "1431cbd9bc8a44bca1462fc7e0c0cf30",
       "version_major": 2,
       "version_minor": 0
      },
      "text/plain": [
       "Dropdown(description=u'Buy spores', options=('Yes', 'No'), value='Yes')"
      ]
     },
     "metadata": {},
     "output_type": "display_data"
    },
    {
     "data": {
      "application/vnd.jupyter.widget-view+json": {
       "model_id": "66711a29ab934666aee1a9d8530920d2",
       "version_major": 2,
       "version_minor": 0
      },
      "text/plain": [
       "Label(value=u'In the above scenario, we recommend to not buy data, buy spores, harvest later.')"
      ]
     },
     "metadata": {},
     "output_type": "display_data"
    },
    {
     "data": {
      "application/vnd.jupyter.widget-view+json": {
       "model_id": "09d95ed0ed0040bdaf0f4a09421f131e",
       "version_major": 2,
       "version_minor": 0
      },
      "text/plain": [
       "Label(value=u'This will provide an optimal value of $426,470.34.')"
      ]
     },
     "metadata": {},
     "output_type": "display_data"
    },
    {
     "data": {
      "application/vnd.jupyter.widget-view+json": {
       "model_id": "95de3d33c7c84ef885380ccf0cb2dcaf",
       "version_major": 2,
       "version_minor": 0
      },
      "text/plain": [
       "Label(value=u'The value of the data is $0.00.')"
      ]
     },
     "metadata": {},
     "output_type": "display_data"
    },
    {
     "data": {
      "application/vnd.jupyter.widget-view+json": {
       "model_id": "ad0918ba01ac4971a659447ee7555345",
       "version_major": 2,
       "version_minor": 0
      },
      "text/plain": [
       "Label(value=u'The value of the spores is $84,470.34.')"
      ]
     },
     "metadata": {},
     "output_type": "display_data"
    },
    {
     "data": {
      "application/vnd.jupyter.widget-view+json": {
       "model_id": "d7b29c7b864540f298ea7f864fa5b98d",
       "version_major": 2,
       "version_minor": 0
      },
      "text/plain": [
       "Label(value=u'The joint value is $43,777.84.')"
      ]
     },
     "metadata": {},
     "output_type": "display_data"
    },
    {
     "data": {
      "application/vnd.jupyter.widget-view+json": {
       "model_id": "b3ab9e11f90b456cb1b6a461330a261c",
       "version_major": 2,
       "version_minor": 0
      },
      "text/plain": [
       "Button(description=u'Reset Scenario', style=ButtonStyle())"
      ]
     },
     "metadata": {},
     "output_type": "display_data"
    }
   ],
   "source": [
    "## Display User Input Scenarios\n",
    "\n",
    "display(widget_try_title)\n",
    "display(widgets.HBox([\n",
    "    label_desc_prob_of_rain,\n",
    "    slider_prob_of_rain,\n",
    "    label_percent]))\n",
    "\n",
    "display(widgets.HBox([\n",
    "    label_desc_prob_of_mold,\n",
    "    slider_prob_of_mold,\n",
    "    label_percent]))\n",
    "\n",
    "display(widgets.HBox([\n",
    "    label_desc_prob_of_acid,\n",
    "    slider_prob_of_acid,\n",
    "    label_percent]))\n",
    "\n",
    "display(choices)\n",
    "display(dropdown_data)\n",
    "dropdown_data.layout.visibility = \"hidden\"\n",
    "display(dropdown_spores)\n",
    "dropdown_spores.layout.visibility = \"hidden\"\n",
    "\n",
    "display(label_recommend)\n",
    "display(label_value)\n",
    "display(label_value_of_data)\n",
    "display(label_value_of_spores)\n",
    "display(label_joint_value)\n",
    "\n",
    "display(button_reset)\n",
    "\n",
    "update()\n",
    "\n"
   ]
  },
  {
   "cell_type": "code",
   "execution_count": null,
   "metadata": {},
   "outputs": [],
   "source": []
  },
  {
   "cell_type": "code",
   "execution_count": null,
   "metadata": {},
   "outputs": [],
   "source": []
  }
 ],
 "metadata": {
  "kernelspec": {
   "display_name": "Python 2",
   "language": "python",
   "name": "python2"
  },
  "language_info": {
   "codemirror_mode": {
    "name": "ipython",
    "version": 2
   },
   "file_extension": ".py",
   "mimetype": "text/x-python",
   "name": "python",
   "nbconvert_exporter": "python",
   "pygments_lexer": "ipython2",
   "version": "2.7.10"
  }
 },
 "nbformat": 4,
 "nbformat_minor": 2
}
